{
 "cells": [
  {
   "cell_type": "code",
   "execution_count": 1,
   "id": "66139010",
   "metadata": {},
   "outputs": [],
   "source": [
    "import re\n",
    "import time\n",
    "from datetime import timedelta, datetime\n",
    "from functools import wraps\n",
    "\n",
    "import requests\n",
    "from bs4 import BeautifulSoup\n",
    "\n",
    "\n",
    "_index_url = \"https://news.ycombinator.com/submitted?id=\"\n",
    "_data_url_fragment = \"https://news.ycombinator.com/item?id={}&p={}\"\n",
    "_date_re = re.compile(\"(\\w+ \\d{4})\")\n",
    "_id_re = re.compile(\"=(\\d+)\")"
   ]
  },
  {
   "cell_type": "code",
   "execution_count": 2,
   "id": "75ee7e7f",
   "metadata": {},
   "outputs": [],
   "source": [
    "r = requests.get(\"https://news.ycombinator.com/submitted?id=whoishiring\")\n",
    "r.raise_for_status()"
   ]
  },
  {
   "cell_type": "code",
   "execution_count": 3,
   "id": "cf965348",
   "metadata": {},
   "outputs": [],
   "source": [
    "soup = BeautifulSoup(r.text, \"html.parser\")\n",
    "links = soup.select(\"td.title > span > a\")"
   ]
  },
  {
   "cell_type": "code",
   "execution_count": 4,
   "id": "a795269f",
   "metadata": {},
   "outputs": [
    {
     "data": {
      "text/plain": [
       "[<a href=\"item?id=35424807\">Ask HN: Who is hiring? (April 2023)</a>,\n",
       " <a href=\"item?id=35424806\">Ask HN: Freelancer? Seeking freelancer? (April 2023)</a>,\n",
       " <a href=\"item?id=35424805\">Ask HN: Who wants to be hired? (April 2023)</a>,\n",
       " <a href=\"item?id=34983767\">Ask HN: Who is hiring? (March 2023)</a>,\n",
       " <a href=\"item?id=34983766\">Ask HN: Freelancer? Seeking freelancer? (March 2023)</a>,\n",
       " <a href=\"item?id=34983765\">Ask HN: Who wants to be hired? (March 2023)</a>,\n",
       " <a href=\"item?id=34612353\">Ask HN: Who is hiring? (February 2023)</a>,\n",
       " <a href=\"item?id=34612352\">Ask HN: Freelancer? Seeking freelancer? (February 2023)</a>,\n",
       " <a href=\"item?id=34612351\">Ask HN: Who wants to be hired? (February 2023)</a>,\n",
       " <a href=\"item?id=34219335\">Ask HN: Who is hiring? (January 2023)</a>,\n",
       " <a href=\"item?id=34219334\">Ask HN: Freelancer? Seeking freelancer? (January 2023)</a>,\n",
       " <a href=\"item?id=34219332\">Ask HN: Who wants to be hired? (January 2023)</a>,\n",
       " <a href=\"item?id=33818037\">Ask HN: Who is hiring? (December 2022)</a>,\n",
       " <a href=\"item?id=33818036\">Ask HN: Freelancer? Seeking freelancer? (December 2022)</a>,\n",
       " <a href=\"item?id=33818035\">Ask HN: Who wants to be hired? (December 2022)</a>,\n",
       " <a href=\"item?id=33422129\">Ask HN: Who is hiring? (November 2022)</a>,\n",
       " <a href=\"item?id=33422128\">Ask HN: Freelancer? Seeking freelancer? (November 2022)</a>,\n",
       " <a href=\"item?id=33422127\">Ask HN: Who wants to be hired? (November 2022)</a>,\n",
       " <a href=\"item?id=33068421\">Ask HN: Who is hiring? (October 2022)</a>,\n",
       " <a href=\"item?id=33068420\">Ask HN: Freelancer? Seeking freelancer? (October 2022)</a>,\n",
       " <a href=\"item?id=33068418\">Ask HN: Who wants to be hired? (October 2022)</a>,\n",
       " <a href=\"item?id=32677265\">Ask HN: Who is hiring? (September 2022)</a>,\n",
       " <a href=\"item?id=32677264\">Ask HN: Freelancer? Seeking freelancer? (September 2022)</a>,\n",
       " <a href=\"item?id=32677261\">Ask HN: Who wants to be hired? (September 2022)</a>,\n",
       " <a href=\"item?id=32306920\">Ask HN: Who is hiring? (August 2022)</a>,\n",
       " <a href=\"item?id=32306919\">Ask HN: Freelancer? Seeking freelancer? (August 2022)</a>,\n",
       " <a href=\"item?id=32306917\">Ask HN: Who wants to be hired? (August 2022)</a>,\n",
       " <a href=\"item?id=31947297\">Ask HN: Who is hiring? (July 2022)</a>,\n",
       " <a href=\"item?id=31947296\">Ask HN: Freelancer? Seeking freelancer? (July 2022)</a>,\n",
       " <a href=\"item?id=31947295\">Ask HN: Who wants to be hired? (July 2022)</a>]"
      ]
     },
     "execution_count": 4,
     "metadata": {},
     "output_type": "execute_result"
    }
   ],
   "source": [
    "links"
   ]
  },
  {
   "cell_type": "code",
   "execution_count": 14,
   "id": "2d4b2c1d",
   "metadata": {},
   "outputs": [],
   "source": [
    "    hiring = [\n",
    "        (_date_re.findall(i.text)[0], _id_re.findall(i[\"href\"])[0])\n",
    "        for i in links\n",
    "        if \"hiring\" in i.text and _date_re.search(i.text) is not None\n",
    "    ]"
   ]
  },
  {
   "cell_type": "code",
   "execution_count": 15,
   "id": "b37a2d25",
   "metadata": {},
   "outputs": [
    {
     "data": {
      "text/plain": [
       "[('October 2022', '33068421'),\n",
       " ('September 2022', '32677265'),\n",
       " ('August 2022', '32306920'),\n",
       " ('July 2022', '31947297'),\n",
       " ('June 2022', '31582796'),\n",
       " ('May 2022', '31235968'),\n",
       " ('April 2022', '30878761'),\n",
       " ('March 2022', '30515750'),\n",
       " ('February 2022', '30164271'),\n",
       " ('January 2022', '29782099')]"
      ]
     },
     "execution_count": 15,
     "metadata": {},
     "output_type": "execute_result"
    }
   ],
   "source": [
    "hiring"
   ]
  },
  {
   "cell_type": "code",
   "execution_count": 5,
   "id": "7d7ef9d9",
   "metadata": {},
   "outputs": [],
   "source": [
    "r = requests.get('https://hacker-news.firebaseio.com/v0/jobstories.json')\n",
    "r.raise_for_status()\n",
    "data = r.json()"
   ]
  },
  {
   "cell_type": "code",
   "execution_count": 7,
   "id": "6ac966c0",
   "metadata": {},
   "outputs": [],
   "source": [
    "full = [(job_id, requests.get(\"https://hacker-news.firebaseio.com/v0/item/{}.json\".format(job_id)).json()) for job_id in data]"
   ]
  },
  {
   "cell_type": "code",
   "execution_count": 11,
   "id": "2cd09db8",
   "metadata": {},
   "outputs": [
    {
     "data": {
      "text/plain": [
       "[(35347760, None)]"
      ]
     },
     "execution_count": 11,
     "metadata": {},
     "output_type": "execute_result"
    }
   ],
   "source": [
    "[f for f in full if f[1] is None]"
   ]
  },
  {
   "cell_type": "code",
   "execution_count": 16,
   "id": "8d338516",
   "metadata": {},
   "outputs": [
    {
     "data": {
      "text/plain": [
       "False"
      ]
     },
     "execution_count": 16,
     "metadata": {},
     "output_type": "execute_result"
    }
   ],
   "source": [
    "d = requests.get(\"https://hacker-news.firebaseio.com/v0/item/35347760.json\").json()\n",
    "d is not None"
   ]
  },
  {
   "cell_type": "code",
   "execution_count": null,
   "id": "134962a7",
   "metadata": {},
   "outputs": [],
   "source": []
  }
 ],
 "metadata": {
  "kernelspec": {
   "display_name": "Python 3 (ipykernel)",
   "language": "python",
   "name": "python3"
  },
  "language_info": {
   "codemirror_mode": {
    "name": "ipython",
    "version": 3
   },
   "file_extension": ".py",
   "mimetype": "text/x-python",
   "name": "python",
   "nbconvert_exporter": "python",
   "pygments_lexer": "ipython3",
   "version": "3.11.1"
  }
 },
 "nbformat": 4,
 "nbformat_minor": 5
}
