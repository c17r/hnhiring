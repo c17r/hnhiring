{
 "cells": [
  {
   "cell_type": "code",
   "execution_count": 1,
   "id": "866725f5",
   "metadata": {},
   "outputs": [],
   "source": [
    "import sys\n",
    "sys.path.insert(0, '/Users/christian/odrive/personal/wc/source/py-hn-hiring')"
   ]
  },
  {
   "cell_type": "code",
   "execution_count": 2,
   "id": "bf570f62",
   "metadata": {},
   "outputs": [],
   "source": [
    "from app.management import hackernews as existing"
   ]
  },
  {
   "cell_type": "code",
   "execution_count": 3,
   "id": "859c9e91",
   "metadata": {},
   "outputs": [],
   "source": [
    "old_get_months = existing.get_months()"
   ]
  },
  {
   "cell_type": "code",
   "execution_count": 4,
   "id": "bffe2441",
   "metadata": {},
   "outputs": [
    {
     "data": {
      "text/plain": [
       "[('June 2023', '36152014'),\n",
       " ('May 2023', '35773707'),\n",
       " ('April 2023', '35424807'),\n",
       " ('March 2023', '34983767'),\n",
       " ('February 2023', '34612353'),\n",
       " ('January 2023', '34219335'),\n",
       " ('December 2022', '33818037'),\n",
       " ('November 2022', '33422129'),\n",
       " ('October 2022', '33068421'),\n",
       " ('September 2022', '32677265')]"
      ]
     },
     "execution_count": 4,
     "metadata": {},
     "output_type": "execute_result"
    }
   ],
   "source": [
    "old_get_months"
   ]
  },
  {
   "cell_type": "code",
   "execution_count": 5,
   "id": "5c48dabc",
   "metadata": {},
   "outputs": [
    {
     "name": "stdout",
     "output_type": "stream",
     "text": [
      "\t\tProcessing Page 1...\n",
      "\t\tProcessing Page 2...\n",
      "\t\tProcessing Page 3...\n"
     ]
    }
   ],
   "source": [
    "old_get_data = list(existing.get_data(36152014))[:10]"
   ]
  },
  {
   "cell_type": "code",
   "execution_count": 6,
   "id": "8492a6ee",
   "metadata": {},
   "outputs": [
    {
     "data": {
      "text/plain": [
       "('36153759',\n",
       " '<span class=\"commtext c00\">Aclima <a href=\"https://aclima.io\" rel=\"nofollow\">https://aclima.io</a> | Front End Lead | Remote/ West Coast US| Full time<p>Want to work on the front line of climate and science?<p>We collect air quality data with a fleet of vehicles, process that data, and share it with regulators, utilities and industry, communities, and other research customers.<p>We\\'re looking for a strong front end engineering lead to work with our front end team on supporting our groundbreaking environmental mapping tool.<p>The base salary range for this full-time exempt position is $122,000 - $194,000 + equity + benefits.<p>Apply at <a href=\"https://jobs.lever.co/aclima/a61afe51-c0eb-43b9-af98-bb46a8463276\" rel=\"nofollow\">https://jobs.lever.co/aclima/a61afe51-c0eb-43b9-af98-bb46a84...</a></p></p></p></p></p></span>',\n",
       " '2023-06-02 07:03:25')"
      ]
     },
     "execution_count": 6,
     "metadata": {},
     "output_type": "execute_result"
    }
   ],
   "source": [
    "old_get_data[1]"
   ]
  },
  {
   "cell_type": "code",
   "execution_count": 7,
   "id": "7acef81a",
   "metadata": {},
   "outputs": [],
   "source": [
    "def get_data(hn_id):\n",
    "    pass"
   ]
  },
  {
   "cell_type": "code",
   "execution_count": 9,
   "id": "86d7a4b0",
   "metadata": {},
   "outputs": [],
   "source": [
    "import requests\n",
    "r = requests.get(\"https://hn.algolia.com/api/v1/items/36152014\")\n",
    "r.raise_for_status()\n",
    "post = r.json()"
   ]
  },
  {
   "cell_type": "code",
   "execution_count": null,
   "id": "750ee526",
   "metadata": {
    "scrolled": false
   },
   "outputs": [],
   "source": [
    "for entry in post[\"children\"]:\n",
    "    print(entry[\"author\"])"
   ]
  },
  {
   "cell_type": "code",
   "execution_count": 16,
   "id": "b3585994",
   "metadata": {},
   "outputs": [
    {
     "data": {
      "text/plain": [
       "{'id': 36153759,\n",
       " 'created_at': '2023-06-01T16:43:21.000Z',\n",
       " 'created_at_i': 1685637801,\n",
       " 'type': 'comment',\n",
       " 'author': 'hendler',\n",
       " 'title': None,\n",
       " 'url': None,\n",
       " 'text': '<p>Aclima <a href=\"https:&#x2F;&#x2F;aclima.io\" rel=\"nofollow\">https:&#x2F;&#x2F;aclima.io</a> | Front End Lead | Remote&#x2F; West Coast US| Full time</p><p>Want to work on the front line of climate and science?</p><p>We collect air quality data with a fleet of vehicles, process that data, and share it with regulators, utilities and industry, communities, and other research customers.</p><p>We&#x27;re looking for a strong front end engineering lead to work with our front end team on supporting our groundbreaking environmental mapping tool.</p><p>The base salary range for this full-time exempt position is $122,000 - $194,000 + equity + benefits.</p><p>Apply at <a href=\"https:&#x2F;&#x2F;jobs.lever.co&#x2F;aclima&#x2F;a61afe51-c0eb-43b9-af98-bb46a8463276\" rel=\"nofollow\">https:&#x2F;&#x2F;jobs.lever.co&#x2F;aclima&#x2F;a61afe51-c0eb-43b9-af98-bb46a84...</a></p>',\n",
       " 'points': None,\n",
       " 'parent_id': 36152014,\n",
       " 'story_id': 36152014,\n",
       " 'children': [{'id': 36153930,\n",
       "   'created_at': '2023-06-01T16:52:50.000Z',\n",
       "   'created_at_i': 1685638370,\n",
       "   'type': 'comment',\n",
       "   'author': 'worldmerge',\n",
       "   'title': None,\n",
       "   'url': None,\n",
       "   'text': '<p>Wow such a cool company! By chance do you have an API? I would love to be able to integrate some of your data into some my own maps (just some personal side projects).</p>',\n",
       "   'points': None,\n",
       "   'parent_id': 36153759,\n",
       "   'story_id': 36152014,\n",
       "   'children': [],\n",
       "   'options': []},\n",
       "  {'id': 36270244,\n",
       "   'created_at': '2023-06-10T13:22:35.000Z',\n",
       "   'created_at_i': 1686403355,\n",
       "   'type': 'comment',\n",
       "   'author': 'pschuegr',\n",
       "   'title': None,\n",
       "   'url': None,\n",
       "   'text': '<p>Link is broken, FYI</p>',\n",
       "   'points': None,\n",
       "   'parent_id': 36153759,\n",
       "   'story_id': 36152014,\n",
       "   'children': [],\n",
       "   'options': []}],\n",
       " 'options': []}"
      ]
     },
     "execution_count": 16,
     "metadata": {},
     "output_type": "execute_result"
    }
   ],
   "source": [
    "items = [x for x in post[\"children\"] if x[\"id\"] == 36153759]\n",
    "item = items[0]\n",
    "item"
   ]
  },
  {
   "cell_type": "code",
   "execution_count": 19,
   "id": "e6607223",
   "metadata": {},
   "outputs": [
    {
     "data": {
      "text/plain": [
       "'2023-06-01 16:43:21'"
      ]
     },
     "execution_count": 19,
     "metadata": {},
     "output_type": "execute_result"
    }
   ],
   "source": [
    "from datetime import datetime, timezone\n",
    "\n",
    "datetime.fromtimestamp(1685637801, tz=timezone.utc).strftime(\"%Y-%m-%d %H:%M:%S\")"
   ]
  },
  {
   "cell_type": "code",
   "execution_count": null,
   "id": "f6ebb63f",
   "metadata": {},
   "outputs": [],
   "source": []
  }
 ],
 "metadata": {
  "kernelspec": {
   "display_name": "Python 3 (ipykernel)",
   "language": "python",
   "name": "python3"
  },
  "language_info": {
   "codemirror_mode": {
    "name": "ipython",
    "version": 3
   },
   "file_extension": ".py",
   "mimetype": "text/x-python",
   "name": "python",
   "nbconvert_exporter": "python",
   "pygments_lexer": "ipython3",
   "version": "3.11.1"
  }
 },
 "nbformat": 4,
 "nbformat_minor": 5
}
