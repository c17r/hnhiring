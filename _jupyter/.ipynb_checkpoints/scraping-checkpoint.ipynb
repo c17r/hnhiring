{
 "cells": [
  {
   "cell_type": "code",
   "execution_count": 10,
   "id": "66139010",
   "metadata": {},
   "outputs": [],
   "source": [
    "import re\n",
    "import time\n",
    "from datetime import timedelta, datetime\n",
    "from functools import wraps\n",
    "\n",
    "import requests\n",
    "from bs4 import BeautifulSoup\n",
    "\n",
    "\n",
    "_index_url = \"https://news.ycombinator.com/submitted?id=\"\n",
    "_data_url_fragment = \"https://news.ycombinator.com/item?id={}&p={}\"\n",
    "_date_re = re.compile(\"(\\w+ \\d{4})\")\n",
    "_id_re = re.compile(\"=(\\d+)\")"
   ]
  },
  {
   "cell_type": "code",
   "execution_count": 11,
   "id": "75ee7e7f",
   "metadata": {},
   "outputs": [],
   "source": [
    "r = requests.get(\"https://news.ycombinator.com/submitted?id=whoishiring\")\n",
    "r.raise_for_status()"
   ]
  },
  {
   "cell_type": "code",
   "execution_count": 12,
   "id": "cf965348",
   "metadata": {},
   "outputs": [],
   "source": [
    "    soup = BeautifulSoup(r.text, \"html.parser\")\n",
    "    links = soup.select(\"td.title > span > a\")"
   ]
  },
  {
   "cell_type": "code",
   "execution_count": 13,
   "id": "a795269f",
   "metadata": {},
   "outputs": [
    {
     "data": {
      "text/plain": [
       "[<a href=\"item?id=33068421\">Ask HN: Who is hiring? (October 2022)</a>,\n",
       " <a href=\"item?id=33068420\">Ask HN: Freelancer? Seeking freelancer? (October 2022)</a>,\n",
       " <a href=\"item?id=33068418\">Ask HN: Who wants to be hired? (October 2022)</a>,\n",
       " <a href=\"item?id=32677265\">Ask HN: Who is hiring? (September 2022)</a>,\n",
       " <a href=\"item?id=32677264\">Ask HN: Freelancer? Seeking freelancer? (September 2022)</a>,\n",
       " <a href=\"item?id=32677261\">Ask HN: Who wants to be hired? (September 2022)</a>,\n",
       " <a href=\"item?id=32306920\">Ask HN: Who is hiring? (August 2022)</a>,\n",
       " <a href=\"item?id=32306919\">Ask HN: Freelancer? Seeking freelancer? (August 2022)</a>,\n",
       " <a href=\"item?id=32306917\">Ask HN: Who wants to be hired? (August 2022)</a>,\n",
       " <a href=\"item?id=31947297\">Ask HN: Who is hiring? (July 2022)</a>,\n",
       " <a href=\"item?id=31947296\">Ask HN: Freelancer? Seeking freelancer? (July 2022)</a>,\n",
       " <a href=\"item?id=31947295\">Ask HN: Who wants to be hired? (July 2022)</a>,\n",
       " <a href=\"item?id=31582796\">Ask HN: Who is hiring? (June 2022)</a>,\n",
       " <a href=\"item?id=31582795\">Ask HN: Freelancer? Seeking freelancer? (June 2022)</a>,\n",
       " <a href=\"item?id=31582793\">Ask HN: Who wants to be hired? (June 2022)</a>,\n",
       " <a href=\"item?id=31235968\">Ask HN: Who is hiring? (May 2022)</a>,\n",
       " <a href=\"item?id=31235967\">Ask HN: Freelancer? Seeking freelancer? (May 2022)</a>,\n",
       " <a href=\"item?id=31235966\">Ask HN: Who wants to be hired? (May 2022)</a>,\n",
       " <a href=\"item?id=30878761\">Ask HN: Who is hiring? (April 2022)</a>,\n",
       " <a href=\"item?id=30878760\">Ask HN: Freelancer? Seeking freelancer? (April 2022)</a>,\n",
       " <a href=\"item?id=30878759\">Ask HN: Who wants to be hired? (April 2022)</a>,\n",
       " <a href=\"item?id=30515750\">Ask HN: Who is hiring? (March 2022)</a>,\n",
       " <a href=\"item?id=30515749\">Ask HN: Freelancer? Seeking freelancer? (March 2022)</a>,\n",
       " <a href=\"item?id=30515748\">Ask HN: Who wants to be hired? (March 2022)</a>,\n",
       " <a href=\"item?id=30164271\">Ask HN: Who is hiring? (February 2022)</a>,\n",
       " <a href=\"item?id=30164270\">Ask HN: Freelancer? Seeking freelancer? (February 2022)</a>,\n",
       " <a href=\"item?id=30164269\">Ask HN: Who wants to be hired? (February 2022)</a>,\n",
       " <a href=\"item?id=29782099\">Ask HN: Who is hiring? (January 2022)</a>,\n",
       " <a href=\"item?id=29782097\">Ask HN: Freelancer? Seeking freelancer? (January 2022)</a>,\n",
       " <a href=\"item?id=29782096\">Ask HN: Who wants to be hired? (January 2022)</a>]"
      ]
     },
     "execution_count": 13,
     "metadata": {},
     "output_type": "execute_result"
    }
   ],
   "source": [
    "links"
   ]
  },
  {
   "cell_type": "code",
   "execution_count": 14,
   "id": "2d4b2c1d",
   "metadata": {},
   "outputs": [],
   "source": [
    "    hiring = [\n",
    "        (_date_re.findall(i.text)[0], _id_re.findall(i[\"href\"])[0])\n",
    "        for i in links\n",
    "        if \"hiring\" in i.text and _date_re.search(i.text) is not None\n",
    "    ]"
   ]
  },
  {
   "cell_type": "code",
   "execution_count": 15,
   "id": "b37a2d25",
   "metadata": {},
   "outputs": [
    {
     "data": {
      "text/plain": [
       "[('October 2022', '33068421'),\n",
       " ('September 2022', '32677265'),\n",
       " ('August 2022', '32306920'),\n",
       " ('July 2022', '31947297'),\n",
       " ('June 2022', '31582796'),\n",
       " ('May 2022', '31235968'),\n",
       " ('April 2022', '30878761'),\n",
       " ('March 2022', '30515750'),\n",
       " ('February 2022', '30164271'),\n",
       " ('January 2022', '29782099')]"
      ]
     },
     "execution_count": 15,
     "metadata": {},
     "output_type": "execute_result"
    }
   ],
   "source": [
    "hiring"
   ]
  },
  {
   "cell_type": "code",
   "execution_count": null,
   "id": "7d7ef9d9",
   "metadata": {},
   "outputs": [],
   "source": []
  }
 ],
 "metadata": {
  "kernelspec": {
   "display_name": "Python 3 (ipykernel)",
   "language": "python",
   "name": "python3"
  },
  "language_info": {
   "codemirror_mode": {
    "name": "ipython",
    "version": 3
   },
   "file_extension": ".py",
   "mimetype": "text/x-python",
   "name": "python",
   "nbconvert_exporter": "python",
   "pygments_lexer": "ipython3",
   "version": "3.9.13"
  }
 },
 "nbformat": 4,
 "nbformat_minor": 5
}
